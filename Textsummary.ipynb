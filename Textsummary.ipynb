{
 "cells": [
  {
   "cell_type": "markdown",
   "id": "f0f02960-6d17-48a1-8412-3f6930759686",
   "metadata": {},
   "source": [
    "\n",
    "Tokenisiere den Text\n",
    "\n",
    "Rausfiltern von Stopwords\n",
    "\n",
    "Für jedes vorkommende Wort im Text zählen wie oft es vorkommt  -> Word Score\n",
    "\n",
    "Für jeden Satz den Score berechnen indem man die einzelnen Scores der Worte zusammenzählt\n",
    "\n",
    "Textzusammenfassung sind die 5 Top Sätze\n"
   ]
  },
  {
   "cell_type": "code",
   "execution_count": 1,
   "id": "26d73eba-8110-4177-9109-29b33ece5612",
   "metadata": {},
   "outputs": [
    {
     "name": "stdout",
     "output_type": "stream",
     "text": [
      "climate 43\n",
      "science 8\n",
      "earth 4\n",
      "scientists 7\n",
      "greenhouse 6\n",
      "change 12\n",
      "impacts 6\n",
      "help 7\n",
      "urban 4\n",
      " Paleoclimate studies, for example, use geological and biological evidence to reconstruct past climates and understand the natural variability of the climate system.\n",
      " Climate models, complex computer simulations of Earth's climate system, allow scientists to explore how different factors, such as greenhouse gas emissions, land use changes, and volcanic eruptions, influence global and regional climate patterns.\n",
      " By communicating the scientific consensus on climate change and its potential consequences, climate scientists help empower individuals and communities to take action to reduce their carbon footprint, advocate for climate policies, and support initiatives that promote sustainability and resilience.\n",
      " By studying the impacts of climate change on ecosystems, agriculture, and human health, climate scientists provide valuable insights into the risks and vulnerabilities that communities and industries face in a changing climate.\n",
      " By advancing our understanding of Earth's climate system and its interactions with human activities, climate scientists play a crucial role in informing policy decisions, fostering public awareness and understanding, driving technological innovation, and building resilience to climate impacts.\n"
     ]
    }
   ],
   "source": [
    "text = \"Climate science is a vast and multifaceted discipline that encompasses a wide range of scientific fields and methodologies. At its core, it seeks to understand the complex interactions between the atmosphere, oceans, land surfaces, ice sheets, and living organisms that collectively determine Earth's climate. Through observation, experimentation, and modeling, climate scientists strive to unravel the intricacies of our planet's climate system and predict how it will evolve in response to natural and human-induced changes. One of the fundamental principles of climate science is the study of greenhouse gases and their role in regulating Earth's temperature. Greenhouse gases, such as carbon dioxide (CO2), methane (CH4), and nitrous oxide (N2O), trap heat in the atmosphere, preventing it from escaping into space. This natural greenhouse effect is essential for maintaining Earth's temperature within a range that is conducive to life as we know it. However, human activities, particularly the burning of fossil fuels and deforestation, have significantly increased the concentrations of greenhouse gases in the atmosphere, leading to global warming and climate change. Understanding the drivers of climate change is essential for devising effective strategies to mitigate its impacts and adapt to its consequences. Climate scientists use a variety of tools and techniques to study past climate variations, monitor current trends, and project future scenarios. Paleoclimate studies, for example, use geological and biological evidence to reconstruct past climates and understand the natural variability of the climate system. Instrumental records, such as temperature measurements, satellite observations, and ice core data, provide valuable insights into contemporary climate trends and help scientists identify patterns and trends over time. Climate models, complex computer simulations of Earth's climate system, allow scientists to explore how different factors, such as greenhouse gas emissions, land use changes, and volcanic eruptions, influence global and regional climate patterns.  One of the most significant contributions of climate science is its ability to inform policy decisions and guide climate action at the local, national, and international levels. The Intergovernmental Panel on Climate Change (IPCC), established by the United Nations in 1988, serves as the leading international body for assessing the science of climate change, its impacts, and potential adaptation and mitigation strategies. IPCC reports, which are based on a comprehensive review of the latest scientific literature, provide policymakers with the knowledge and evidence they need to make informed decisions about climate policy and regulation. Climate science also plays a crucial role in fostering public awareness and understanding of climate change. By communicating the scientific consensus on climate change and its potential consequences, climate scientists help empower individuals and communities to take action to reduce their carbon footprint, advocate for climate policies, and support initiatives that promote sustainability and resilience. Education and outreach efforts, such as climate literacy programs, public lectures, and media campaigns, help raise awareness about the urgency of addressing climate change and inspire collective action at all levels of society. In addition to its scientific and educational contributions, climate science drives innovation and technological development in sectors such as renewable energy, agriculture, transportation, and urban planning. By studying the impacts of climate change on ecosystems, agriculture, and human health, climate scientists provide valuable insights into the risks and vulnerabilities that communities and industries face in a changing climate. This knowledge informs the development of adaptive strategies and technologies that can help mitigate these risks and build resilience to climate impacts. Renewable energy technologies, such as solar, wind, and hydroelectric power, offer sustainable alternatives to fossil fuels and play a critical role in reducing greenhouse gas emissions and mitigating climate change. Climate scientists work closely with engineers, policymakers, and industry stakeholders to advance the deployment and integration of renewable energy systems, improve energy efficiency, and promote the transition to low-carbon economies. Similarly, climate-smart agricultural practices, such as conservation tillage, crop rotation, and agroforestry, help farmers adapt to changing climate conditions, reduce emissions from agriculture, and enhance the resilience of food systems. Urban areas, which are home to more than half of the world's population, are particularly vulnerable to the impacts of climate change, including heatwaves, floods, and sea-level rise. Climate science informs urban planning and design strategies that can help cities become more resilient, sustainable, and livable in the face of climate change. Green infrastructure, such as parks, green roofs, and permeable pavement, can help absorb stormwater, reduce urban heat island effects, and enhance biodiversity in cities. Sustainable transportation systems, including public transit, cycling infrastructure, and electric vehicles, can help reduce greenhouse gas emissions from transportation and improve air quality in urban areas. In conclusion, climate science is a vital and indispensable field of study that provides essential insights into the causes, impacts, and solutions to climate change. By advancing our understanding of Earth's climate system and its interactions with human activities, climate scientists play a crucial role in informing policy decisions, fostering public awareness and understanding, driving technological innovation, and building resilience to climate impacts. As we confront the urgent challenges posed by climate change, climate science will continue to be a cornerstone of our efforts to create a more sustainable, equitable, and resilient future for generations to come.\"\n",
    "\n",
    "#Tokenisiere den Text\n",
    "words = text.split()\n",
    "\n",
    "#Rausfiltern von Stopwords\n",
    "#irrelevante woerter sind oft kurz, die moechte ich nicht alle listen, also schmeisse ich die in der for-Schleife raus, mit Ausnahmen, die im Text vorkommen.\n",
    "stopwords = ['that', 'between', 'from', 'will', 'their', 'such', 'this','into']\n",
    "\n",
    "shortened = []\n",
    "\n",
    "#hier kuerze ich die Liste der Woerter auf die relevanten, \n",
    "#es sind noch 'woerter' wie \"Earth's\" und 'claim.' vorhanden, die zu beginn korrigiert werden.\n",
    "#alle woerter werden als lowercase betrachtet, weil Satzanfaenge gross sind.\n",
    "for word in words:   \n",
    "    word = word.split(\"'\")[0]\n",
    "    word = word.split(\".\")[0]   \n",
    "    word = word.split(\",\")[0]   \n",
    "    if len(word) <= 3 and word != 'air' and word != 'gas'and word != 'ice':\n",
    "        continue\n",
    "    word = word.lower()  \n",
    "    if word in stopwords: \n",
    "        continue\n",
    "    else: shortened.append(word)\n",
    "\n",
    "#Für jedes vorkommende Wort im Text zählen wie oft es vorkommt  -> Word Score\n",
    "#items enthaelt woerter, scores die entsprechenden haeufigkeiten -1, weil sonst zu viele irrelevante wörter den score erhoehen. \n",
    "#Also mehr Woerter = Hoeherer Score, ist eh, aber wird so reduziert\n",
    "scores = []\n",
    "items = []\n",
    "for word in shortened:   \n",
    "    if word in items:\n",
    "        index =items.index(word)\n",
    "        scores[index] += 1\n",
    "    else: \n",
    "        items.append(word)\n",
    "        scores.append(0)\n",
    "\n",
    "#checke die relevanten woerter\n",
    "for i,sc in enumerate( scores):\n",
    "    if sc>3: print(items[i], sc)\n",
    "\n",
    "#Für jeden Satz den Score berechnen indem man die einzelnen Scores der Worte zusammenzählt\n",
    "\n",
    "saetze = text.split('.')\n",
    "scores_satz = []\n",
    "for satz in saetze:\n",
    "    score_satz = 0\n",
    "    for i,word in enumerate(items):\n",
    "        score_satz += satz.lower().count(word)*scores[i] #score des satzes += haeufigkeit eines relevanten Worts * Score des Worts\n",
    "    scores_satz.append(score_satz)\n",
    "#Textzusammenfassung sind die 5 Top Sätze (oder die top 10%)\n",
    "sorted_scores_satz = sorted(scores_satz)\n",
    "for i, score in enumerate(scores_satz):\n",
    "    if score in sorted_scores_satz[-5:]:\n",
    "        print (saetze[i]+'.')\n",
    "    \n",
    "\n"
   ]
  }
 ],
 "metadata": {
  "kernelspec": {
   "display_name": "Python 3 (ipykernel)",
   "language": "python",
   "name": "python3"
  },
  "language_info": {
   "codemirror_mode": {
    "name": "ipython",
    "version": 3
   },
   "file_extension": ".py",
   "mimetype": "text/x-python",
   "name": "python",
   "nbconvert_exporter": "python",
   "pygments_lexer": "ipython3",
   "version": "3.12.5"
  }
 },
 "nbformat": 4,
 "nbformat_minor": 5
}
